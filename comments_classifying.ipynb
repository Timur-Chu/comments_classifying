{
 "cells": [
  {
   "cell_type": "markdown",
   "metadata": {
    "toc": true
   },
   "source": [
    "<h1>Содержание<span class=\"tocSkip\"></span></h1>\n",
    "<div class=\"toc\"><ul class=\"toc-item\"><li><span><a href=\"#Подготовка\" data-toc-modified-id=\"Подготовка-1\"><span class=\"toc-item-num\">1&nbsp;&nbsp;</span>Подготовка</a></span></li><li><span><a href=\"#Обучение\" data-toc-modified-id=\"Обучение-2\"><span class=\"toc-item-num\">2&nbsp;&nbsp;</span>Обучение</a></span></li><li><span><a href=\"#Выводы\" data-toc-modified-id=\"Выводы-3\"><span class=\"toc-item-num\">3&nbsp;&nbsp;</span>Выводы</a></span></li></ul></div>"
   ]
  },
  {
   "cell_type": "markdown",
   "metadata": {},
   "source": [
    "# Проект для «Викишоп»"
   ]
  },
  {
   "cell_type": "markdown",
   "metadata": {},
   "source": [
    "Интернет-магазин запускает новый сервис. Теперь пользователи могут редактировать и дополнять описания товаров, как в вики-сообществах. То есть клиенты предлагают свои правки и комментируют изменения других. Магазину нужен инструмент, который будет искать токсичные комментарии и отправлять их на модерацию. \n",
    "\n",
    "Обучите модель классифицировать комментарии на позитивные и негативные. В вашем распоряжении набор данных с разметкой о токсичности правок.\n",
    "\n",
    "Постройте модель со значением метрики качества *F1* не меньше 0.75. \n",
    "\n",
    "**Инструкция по выполнению проекта**\n",
    "\n",
    "1. Загрузить и подготовить данные.\n",
    "2. Обучить разные модели. \n",
    "3. Сделать выводы.\n",
    "\n",
    "Для выполнения проекта применять *BERT* необязательно.\n",
    "\n",
    "**Описание данных**\n",
    "\n",
    "Данные находятся в файле `toxic_comments.csv`. Столбец *text* в нём содержит текст комментария, а *toxic* — целевой признак."
   ]
  },
  {
   "cell_type": "markdown",
   "metadata": {},
   "source": [
    "## Подготовка"
   ]
  },
  {
   "cell_type": "code",
   "execution_count": 1,
   "metadata": {},
   "outputs": [],
   "source": [
    "import pandas as pd\n",
    "import numpy as np\n",
    "import nltk\n",
    "from nltk.corpus import stopwords as nltk_stopwords\n",
    "from sklearn.feature_extraction.text import TfidfVectorizer \n",
    "from nltk.stem.wordnet import WordNetLemmatizer\n",
    "import re \n",
    "from sklearn.pipeline import Pipeline, make_pipeline\n",
    "from sklearn.preprocessing import StandardScaler\n",
    "from sklearn.feature_extraction.text import CountVectorizer, TfidfTransformer\n",
    "\n",
    "from sklearn.linear_model import LogisticRegression\n",
    "from sklearn.tree import DecisionTreeClassifier\n",
    "from sklearn.ensemble import RandomForestClassifier \n",
    "from sklearn.model_selection import cross_val_score\n",
    "from sklearn.model_selection import train_test_split\n",
    "from sklearn.metrics import f1_score,  make_scorer\n",
    "from sklearn.model_selection import KFold, GridSearchCV, RandomizedSearchCV\n",
    "from sklearn.metrics import f1_score"
   ]
  },
  {
   "cell_type": "code",
   "execution_count": 2,
   "metadata": {
    "scrolled": true
   },
   "outputs": [
    {
     "name": "stdout",
     "output_type": "stream",
     "text": [
      "<class 'pandas.core.frame.DataFrame'>\n",
      "RangeIndex: 159571 entries, 0 to 159570\n",
      "Data columns (total 2 columns):\n",
      " #   Column  Non-Null Count   Dtype \n",
      "---  ------  --------------   ----- \n",
      " 0   text    159571 non-null  object\n",
      " 1   toxic   159571 non-null  int64 \n",
      "dtypes: int64(1), object(1)\n",
      "memory usage: 2.4+ MB\n"
     ]
    },
    {
     "data": {
      "text/html": [
       "<div>\n",
       "<style scoped>\n",
       "    .dataframe tbody tr th:only-of-type {\n",
       "        vertical-align: middle;\n",
       "    }\n",
       "\n",
       "    .dataframe tbody tr th {\n",
       "        vertical-align: top;\n",
       "    }\n",
       "\n",
       "    .dataframe thead th {\n",
       "        text-align: right;\n",
       "    }\n",
       "</style>\n",
       "<table border=\"1\" class=\"dataframe\">\n",
       "  <thead>\n",
       "    <tr style=\"text-align: right;\">\n",
       "      <th></th>\n",
       "      <th>text</th>\n",
       "      <th>toxic</th>\n",
       "    </tr>\n",
       "  </thead>\n",
       "  <tbody>\n",
       "    <tr>\n",
       "      <th>0</th>\n",
       "      <td>Explanation\\nWhy the edits made under my usern...</td>\n",
       "      <td>0</td>\n",
       "    </tr>\n",
       "    <tr>\n",
       "      <th>1</th>\n",
       "      <td>D'aww! He matches this background colour I'm s...</td>\n",
       "      <td>0</td>\n",
       "    </tr>\n",
       "    <tr>\n",
       "      <th>2</th>\n",
       "      <td>Hey man, I'm really not trying to edit war. It...</td>\n",
       "      <td>0</td>\n",
       "    </tr>\n",
       "    <tr>\n",
       "      <th>3</th>\n",
       "      <td>\"\\nMore\\nI can't make any real suggestions on ...</td>\n",
       "      <td>0</td>\n",
       "    </tr>\n",
       "    <tr>\n",
       "      <th>4</th>\n",
       "      <td>You, sir, are my hero. Any chance you remember...</td>\n",
       "      <td>0</td>\n",
       "    </tr>\n",
       "  </tbody>\n",
       "</table>\n",
       "</div>"
      ],
      "text/plain": [
       "                                                text  toxic\n",
       "0  Explanation\\nWhy the edits made under my usern...      0\n",
       "1  D'aww! He matches this background colour I'm s...      0\n",
       "2  Hey man, I'm really not trying to edit war. It...      0\n",
       "3  \"\\nMore\\nI can't make any real suggestions on ...      0\n",
       "4  You, sir, are my hero. Any chance you remember...      0"
      ]
     },
     "execution_count": 2,
     "metadata": {},
     "output_type": "execute_result"
    }
   ],
   "source": [
    "df= pd.read_csv('/datasets/toxic_comments.csv')\n",
    "df.info()\n",
    "df.head()"
   ]
  },
  {
   "cell_type": "markdown",
   "metadata": {},
   "source": [
    "Создадим функцию для лемматизации текста:"
   ]
  },
  {
   "cell_type": "code",
   "execution_count": 3,
   "metadata": {},
   "outputs": [],
   "source": [
    "m = WordNetLemmatizer()\n",
    "\n",
    "def lemmatize_text(text):    \n",
    "    text = text.lower() # приведение к нижнему регистру\n",
    "    lemm_text = \"\".join(m.lemmatize(text)) \n",
    "    cleared_text = re.sub(r'[^a-zA-Z]', ' ', lemm_text) # очистка от лишних символов\n",
    "    return \" \".join(cleared_text.split())\n",
    "\n",
    "df['text'] = df['text'].apply(lemmatize_text)"
   ]
  },
  {
   "cell_type": "markdown",
   "metadata": {},
   "source": [
    "Из датафрема выделим целевой признак и обучающий набор данных. После разделим выборки на обучающие и тестовые "
   ]
  },
  {
   "cell_type": "code",
   "execution_count": 4,
   "metadata": {},
   "outputs": [],
   "source": [
    "target = df['toxic']\n",
    "features = df.drop(['toxic'], axis=1)\n",
    "\n",
    "features_train, features_test, target_train, target_test = train_test_split(features,target,test_size=0.4,random_state=142)\n"
   ]
  },
  {
   "cell_type": "markdown",
   "metadata": {},
   "source": [
    "Уберем стоп слова:"
   ]
  },
  {
   "cell_type": "code",
   "execution_count": 5,
   "metadata": {},
   "outputs": [
    {
     "name": "stderr",
     "output_type": "stream",
     "text": [
      "[nltk_data] Downloading package stopwords to /home/jovyan/nltk_data...\n",
      "[nltk_data]   Package stopwords is already up-to-date!\n"
     ]
    }
   ],
   "source": [
    "nltk.download('stopwords')\n",
    "stopwords = set(nltk_stopwords.words('english'))\n",
    "\n",
    "count_tf_idf = TfidfVectorizer(stop_words=stopwords)\n",
    "\n",
    "features_train = count_tf_idf.fit_transform(features_train['text'].values)\n",
    "\n",
    "features_test = count_tf_idf.transform(features_test['text'].values)\n"
   ]
  },
  {
   "cell_type": "markdown",
   "metadata": {},
   "source": [
    "## Обучение\n",
    "\n",
    "Произведем обученине моделей. Для подбора параметров используем инструмент GridSearchCV.\n",
    "Параметры моделей заранее подобраны таким образом, чтобы время обучения было минимальным при рассчитанной максимальной F1.\n",
    "\n",
    "Начинаем с метода <b>Дерево решений</b>:"
   ]
  },
  {
   "cell_type": "code",
   "execution_count": 6,
   "metadata": {},
   "outputs": [
    {
     "name": "stdout",
     "output_type": "stream",
     "text": [
      "Fitting 3 folds for each of 2 candidates, totalling 6 fits\n",
      " Лучшая метрика F1 = 0.620455223657525  при параметрах {'criterion': 'gini', 'max_depth': 15}\n"
     ]
    }
   ],
   "source": [
    "tree = DecisionTreeClassifier(random_state = 142)\n",
    "\n",
    "grid_params = {\n",
    "    'criterion':['gini', 'entropy'],\n",
    "    'max_depth':list(range(15,16))\n",
    "}\n",
    "\n",
    "tree_gs = GridSearchCV(tree,param_grid=grid_params, cv=3, scoring='f1', verbose=True).fit(features_train, target_train)\n",
    "\n",
    "\n",
    "print(f' Лучшая метрика F1 = {tree_gs.best_score_}  при параметрах {tree_gs.best_params_}')"
   ]
  },
  {
   "cell_type": "markdown",
   "metadata": {},
   "source": [
    "<b>Случайный Лес:</b>"
   ]
  },
  {
   "cell_type": "code",
   "execution_count": 7,
   "metadata": {},
   "outputs": [
    {
     "name": "stdout",
     "output_type": "stream",
     "text": [
      "Fitting 3 folds for each of 1 candidates, totalling 3 fits\n",
      " Лучшая метрика F1 = 0.006436449765341505  при параметрах {'max_depth': 15, 'n_estimators': 10}\n"
     ]
    }
   ],
   "source": [
    "forest = RandomForestClassifier(random_state = 142)\n",
    "\n",
    "params = {\n",
    "   'n_estimators':range(10,11),        \n",
    "   'max_depth':list(range(15,16)) \n",
    "}\n",
    "\n",
    "#pip_gs = make_pipeline(StandardScaler(), forest)\n",
    "forest_gs = GridSearchCV(forest, param_grid=params, cv=3, scoring='f1', verbose=True).fit(features_train, target_train)\n",
    "\n",
    "print(f' Лучшая метрика F1 = {forest_gs.best_score_}  при параметрах {forest_gs.best_params_}')\n"
   ]
  },
  {
   "cell_type": "markdown",
   "metadata": {},
   "source": [
    "<b>Логистическая регрессия:</b>"
   ]
  },
  {
   "cell_type": "code",
   "execution_count": 8,
   "metadata": {},
   "outputs": [
    {
     "name": "stdout",
     "output_type": "stream",
     "text": [
      "Fitting 3 folds for each of 1 candidates, totalling 3 fits\n",
      " Лучшая метрика F1 = 0.7635893989229517  при параметрах {'C': 15.0, 'intercept_scaling': 15, 'solver': 'liblinear'}\n"
     ]
    }
   ],
   "source": [
    "lr = LogisticRegression(random_state = 142, class_weight='balanced')\n",
    "\n",
    "params = {\n",
    "   #'penalty':['l1','l2'],        \n",
    "   'C':[15.0],\n",
    "    'intercept_scaling' : range(15,16),\n",
    "    'solver' : ['liblinear']\n",
    "}\n",
    "\n",
    "#pip_gs = make_pipeline(StandardScaler(), lr)\n",
    "lr_gs = GridSearchCV(lr,param_grid=params, cv=3, scoring='f1', verbose=True).fit(features_train, target_train)\n",
    "\n",
    "print(f' Лучшая метрика F1 = {lr_gs.best_score_}  при параметрах {lr_gs.best_params_}')\n",
    "\n"
   ]
  },
  {
   "cell_type": "code",
   "execution_count": 9,
   "metadata": {},
   "outputs": [
    {
     "name": "stdout",
     "output_type": "stream",
     "text": [
      "0.6274736943720436\n"
     ]
    }
   ],
   "source": [
    "dt_predictions = tree_gs.predict(features_test)\n",
    "print(f1_score(target_test, dt_predictions))\n"
   ]
  },
  {
   "cell_type": "code",
   "execution_count": 10,
   "metadata": {},
   "outputs": [
    {
     "name": "stdout",
     "output_type": "stream",
     "text": [
      "0.0009021199819576004\n"
     ]
    }
   ],
   "source": [
    "dt_predictions = forest_gs.predict(features_test)\n",
    "print(f1_score(target_test, dt_predictions))"
   ]
  },
  {
   "cell_type": "code",
   "execution_count": 11,
   "metadata": {},
   "outputs": [
    {
     "name": "stdout",
     "output_type": "stream",
     "text": [
      "0.767351069982649\n"
     ]
    }
   ],
   "source": [
    "dt_predictions = lr_gs.predict(features_test)\n",
    "print(f1_score(target_test, dt_predictions))"
   ]
  },
  {
   "cell_type": "markdown",
   "metadata": {},
   "source": [
    "## Выводы"
   ]
  },
  {
   "cell_type": "markdown",
   "metadata": {},
   "source": [
    "В ходе проекта были обработаны данные для интернет-магазина. В рамках запуска нового сервиса с возможностью оставлять комментарии пользователями необходимо производить поиск токсичных комментариев. Чтобы классифицировать комментарии на позитивные и негативные были построены 3 модели\n",
    "Самой эффективной моделью, которая показала максимальную метрику F1(0.76) является модель Логистической регресии. Требование о значении метрики F1 (не менее 0,75) выполнено."
   ]
  }
 ],
 "metadata": {
  "ExecuteTimeLog": [
   {
    "duration": 6028,
    "start_time": "2022-06-06T19:15:12.227Z"
   },
   {
    "duration": 11,
    "start_time": "2022-06-06T19:15:28.429Z"
   },
   {
    "duration": 11,
    "start_time": "2022-06-06T19:15:33.426Z"
   },
   {
    "duration": 15901,
    "start_time": "2022-06-06T19:15:38.933Z"
   },
   {
    "duration": 1014,
    "start_time": "2022-06-06T19:25:39.233Z"
   },
   {
    "duration": 209,
    "start_time": "2022-06-06T19:26:52.827Z"
   },
   {
    "duration": 9113,
    "start_time": "2022-06-06T19:28:38.332Z"
   },
   {
    "duration": 6609,
    "start_time": "2022-06-06T19:28:47.447Z"
   },
   {
    "duration": 1258,
    "start_time": "2022-06-06T19:41:16.617Z"
   },
   {
    "duration": 3101,
    "start_time": "2022-06-06T19:41:17.877Z"
   },
   {
    "duration": 113002,
    "start_time": "2022-06-06T19:41:20.979Z"
   },
   {
    "duration": 0,
    "start_time": "2022-06-06T19:43:13.983Z"
   },
   {
    "duration": 83913,
    "start_time": "2022-06-06T19:44:05.561Z"
   },
   {
    "duration": 12,
    "start_time": "2022-06-06T19:53:10.845Z"
   },
   {
    "duration": 4,
    "start_time": "2022-06-06T19:53:39.553Z"
   },
   {
    "duration": 107787,
    "start_time": "2022-06-06T19:53:43.599Z"
   },
   {
    "duration": 112430,
    "start_time": "2022-06-06T19:55:38.785Z"
   },
   {
    "duration": 1021,
    "start_time": "2022-06-06T19:57:34.480Z"
   },
   {
    "duration": 930,
    "start_time": "2022-06-06T19:57:35.503Z"
   },
   {
    "duration": 107562,
    "start_time": "2022-06-06T19:57:36.435Z"
   },
   {
    "duration": 109483,
    "start_time": "2022-06-06T19:59:23.998Z"
   },
   {
    "duration": 5,
    "start_time": "2022-06-06T20:04:06.574Z"
   },
   {
    "duration": 4,
    "start_time": "2022-06-06T20:04:20.259Z"
   },
   {
    "duration": 25613,
    "start_time": "2022-06-06T20:04:58.591Z"
   },
   {
    "duration": 24826,
    "start_time": "2022-06-06T20:06:21.025Z"
   },
   {
    "duration": 24928,
    "start_time": "2022-06-06T20:06:59.350Z"
   },
   {
    "duration": 24667,
    "start_time": "2022-06-06T20:08:06.186Z"
   },
   {
    "duration": 47321,
    "start_time": "2022-06-06T20:08:39.394Z"
   },
   {
    "duration": 3,
    "start_time": "2022-06-06T20:12:43.685Z"
   },
   {
    "duration": 125,
    "start_time": "2022-06-06T20:13:56.826Z"
   },
   {
    "duration": 12,
    "start_time": "2022-06-06T20:14:05.905Z"
   },
   {
    "duration": 28,
    "start_time": "2022-06-06T20:19:16.165Z"
   },
   {
    "duration": 44032,
    "start_time": "2022-06-06T20:19:25.968Z"
   },
   {
    "duration": 45386,
    "start_time": "2022-06-06T20:20:38.254Z"
   },
   {
    "duration": 1105,
    "start_time": "2022-06-06T20:25:58.336Z"
   },
   {
    "duration": 919,
    "start_time": "2022-06-06T20:25:59.443Z"
   },
   {
    "duration": 100639,
    "start_time": "2022-06-06T20:26:00.363Z"
   },
   {
    "duration": 224281,
    "start_time": "2022-06-06T20:27:41.004Z"
   },
   {
    "duration": 1091073,
    "start_time": "2022-06-06T20:31:25.286Z"
   },
   {
    "duration": 31,
    "start_time": "2022-06-06T20:49:36.361Z"
   },
   {
    "duration": 0,
    "start_time": "2022-06-06T21:16:36.950Z"
   },
   {
    "duration": 0,
    "start_time": "2022-06-06T21:26:47.745Z"
   },
   {
    "duration": 115999,
    "start_time": "2022-06-06T21:28:41.336Z"
   },
   {
    "duration": 146848,
    "start_time": "2022-06-06T21:39:18.184Z"
   },
   {
    "duration": 732209,
    "start_time": "2022-06-06T21:43:23.125Z"
   },
   {
    "duration": 113163,
    "start_time": "2022-06-06T21:56:28.770Z"
   },
   {
    "duration": 820,
    "start_time": "2022-06-06T22:08:55.973Z"
   },
   {
    "duration": 899,
    "start_time": "2022-06-06T22:09:08.982Z"
   },
   {
    "duration": 1368,
    "start_time": "2022-06-07T04:03:03.572Z"
   },
   {
    "duration": 2549,
    "start_time": "2022-06-07T04:03:04.943Z"
   },
   {
    "duration": 97940,
    "start_time": "2022-06-07T04:03:07.494Z"
   },
   {
    "duration": 40,
    "start_time": "2022-06-07T04:04:45.436Z"
   },
   {
    "duration": 10841,
    "start_time": "2022-06-07T04:04:45.477Z"
   },
   {
    "duration": 53460,
    "start_time": "2022-06-07T04:04:56.319Z"
   },
   {
    "duration": 5705,
    "start_time": "2022-06-07T04:05:49.780Z"
   },
   {
    "duration": 103583,
    "start_time": "2022-06-07T04:05:55.487Z"
   },
   {
    "duration": 1207,
    "start_time": "2022-06-08T04:06:48.089Z"
   },
   {
    "duration": 5,
    "start_time": "2022-06-08T04:06:50.171Z"
   },
   {
    "duration": 2899,
    "start_time": "2022-06-08T04:06:52.149Z"
   },
   {
    "duration": 154,
    "start_time": "2022-06-08T04:06:59.393Z"
   },
   {
    "duration": 3,
    "start_time": "2022-06-08T04:07:44.145Z"
   },
   {
    "duration": 7448,
    "start_time": "2022-06-08T04:07:48.423Z"
   },
   {
    "duration": 1415,
    "start_time": "2022-06-10T06:18:03.992Z"
   },
   {
    "duration": 2956,
    "start_time": "2022-06-10T06:18:05.410Z"
   },
   {
    "duration": 8339,
    "start_time": "2022-06-10T06:18:08.367Z"
   },
   {
    "duration": 40,
    "start_time": "2022-06-10T06:18:16.710Z"
   },
   {
    "duration": 1394,
    "start_time": "2022-06-10T06:28:12.670Z"
   },
   {
    "duration": 953,
    "start_time": "2022-06-10T06:28:14.066Z"
   },
   {
    "duration": 8205,
    "start_time": "2022-06-10T06:28:15.020Z"
   },
   {
    "duration": 37,
    "start_time": "2022-06-10T06:28:23.228Z"
   },
   {
    "duration": 8508,
    "start_time": "2022-06-10T06:28:23.266Z"
   },
   {
    "duration": 64406,
    "start_time": "2022-06-10T06:28:31.776Z"
   },
   {
    "duration": 6962,
    "start_time": "2022-06-10T06:29:36.184Z"
   },
   {
    "duration": 106071,
    "start_time": "2022-06-10T06:29:43.148Z"
   },
   {
    "duration": 1156,
    "start_time": "2022-06-11T08:29:16.531Z"
   },
   {
    "duration": 2862,
    "start_time": "2022-06-11T08:29:17.690Z"
   },
   {
    "duration": 5914,
    "start_time": "2022-06-11T08:29:20.554Z"
   },
   {
    "duration": 24,
    "start_time": "2022-06-11T08:29:26.470Z"
   },
   {
    "duration": 6216,
    "start_time": "2022-06-11T08:29:26.496Z"
   },
   {
    "duration": 43694,
    "start_time": "2022-06-11T08:29:32.713Z"
   },
   {
    "duration": 4619,
    "start_time": "2022-06-11T08:30:16.409Z"
   },
   {
    "duration": 85360,
    "start_time": "2022-06-11T08:30:21.030Z"
   },
   {
    "duration": 1136,
    "start_time": "2022-06-11T09:37:11.083Z"
   },
   {
    "duration": 693,
    "start_time": "2022-06-11T09:37:12.220Z"
   },
   {
    "duration": 5783,
    "start_time": "2022-06-11T09:37:12.914Z"
   },
   {
    "duration": 23,
    "start_time": "2022-06-11T09:37:18.698Z"
   },
   {
    "duration": 6083,
    "start_time": "2022-06-11T09:37:18.723Z"
   },
   {
    "duration": 109,
    "start_time": "2022-06-11T09:37:24.808Z"
   },
   {
    "duration": 0,
    "start_time": "2022-06-11T09:37:24.919Z"
   },
   {
    "duration": 0,
    "start_time": "2022-06-11T09:37:24.920Z"
   },
   {
    "duration": 1149,
    "start_time": "2022-06-11T09:52:29.518Z"
   },
   {
    "duration": 719,
    "start_time": "2022-06-11T09:52:30.670Z"
   },
   {
    "duration": 5781,
    "start_time": "2022-06-11T09:52:31.391Z"
   },
   {
    "duration": 23,
    "start_time": "2022-06-11T09:52:37.174Z"
   },
   {
    "duration": 5974,
    "start_time": "2022-06-11T09:52:37.199Z"
   },
   {
    "duration": 105,
    "start_time": "2022-06-11T09:52:43.174Z"
   },
   {
    "duration": 0,
    "start_time": "2022-06-11T09:52:43.280Z"
   },
   {
    "duration": 0,
    "start_time": "2022-06-11T09:52:43.281Z"
   },
   {
    "duration": 1168,
    "start_time": "2022-06-11T09:56:25.879Z"
   },
   {
    "duration": 789,
    "start_time": "2022-06-11T09:56:27.050Z"
   },
   {
    "duration": 5875,
    "start_time": "2022-06-11T09:56:27.841Z"
   },
   {
    "duration": 30,
    "start_time": "2022-06-11T09:56:33.718Z"
   },
   {
    "duration": 5906,
    "start_time": "2022-06-11T09:56:33.750Z"
   },
   {
    "duration": 129,
    "start_time": "2022-06-11T09:56:39.658Z"
   },
   {
    "duration": 0,
    "start_time": "2022-06-11T09:56:39.789Z"
   },
   {
    "duration": 0,
    "start_time": "2022-06-11T09:56:39.791Z"
   },
   {
    "duration": 10,
    "start_time": "2022-06-11T10:18:57.918Z"
   },
   {
    "duration": 3,
    "start_time": "2022-06-11T10:24:44.995Z"
   },
   {
    "duration": 10,
    "start_time": "2022-06-11T10:24:52.942Z"
   },
   {
    "duration": 4,
    "start_time": "2022-06-11T10:30:11.059Z"
   },
   {
    "duration": 31,
    "start_time": "2022-06-11T10:30:18.534Z"
   },
   {
    "duration": 34,
    "start_time": "2022-06-11T10:35:59.850Z"
   },
   {
    "duration": 11,
    "start_time": "2022-06-11T10:36:44.783Z"
   },
   {
    "duration": 1220,
    "start_time": "2022-06-12T05:45:43.291Z"
   },
   {
    "duration": 2424,
    "start_time": "2022-06-12T05:45:44.513Z"
   },
   {
    "duration": 7379,
    "start_time": "2022-06-12T05:45:46.939Z"
   },
   {
    "duration": 32,
    "start_time": "2022-06-12T05:45:54.321Z"
   },
   {
    "duration": 7300,
    "start_time": "2022-06-12T05:45:54.354Z"
   },
   {
    "duration": 9,
    "start_time": "2022-06-12T05:46:01.656Z"
   },
   {
    "duration": 0,
    "start_time": "2022-06-12T05:46:01.667Z"
   },
   {
    "duration": 0,
    "start_time": "2022-06-12T05:46:01.668Z"
   },
   {
    "duration": 18,
    "start_time": "2022-06-12T05:47:31.130Z"
   },
   {
    "duration": 29,
    "start_time": "2022-06-12T05:48:15.016Z"
   },
   {
    "duration": 131,
    "start_time": "2022-06-12T06:00:07.056Z"
   },
   {
    "duration": 13,
    "start_time": "2022-06-12T06:01:56.136Z"
   },
   {
    "duration": 1221,
    "start_time": "2022-06-12T07:01:13.423Z"
   },
   {
    "duration": 878,
    "start_time": "2022-06-12T07:01:14.646Z"
   },
   {
    "duration": 6695,
    "start_time": "2022-06-12T07:01:15.526Z"
   },
   {
    "duration": 40,
    "start_time": "2022-06-12T07:01:22.223Z"
   },
   {
    "duration": 6583,
    "start_time": "2022-06-12T07:01:22.264Z"
   },
   {
    "duration": 118,
    "start_time": "2022-06-12T07:01:28.849Z"
   },
   {
    "duration": 0,
    "start_time": "2022-06-12T07:01:28.969Z"
   },
   {
    "duration": 0,
    "start_time": "2022-06-12T07:01:28.970Z"
   },
   {
    "duration": 35,
    "start_time": "2022-06-12T07:07:20.483Z"
   },
   {
    "duration": 1332,
    "start_time": "2022-06-12T10:40:10.221Z"
   },
   {
    "duration": 2722,
    "start_time": "2022-06-12T10:40:11.555Z"
   },
   {
    "duration": 7478,
    "start_time": "2022-06-12T10:40:14.280Z"
   },
   {
    "duration": 34,
    "start_time": "2022-06-12T10:40:21.761Z"
   },
   {
    "duration": 7195,
    "start_time": "2022-06-12T10:40:21.796Z"
   },
   {
    "duration": 161,
    "start_time": "2022-06-12T10:40:28.992Z"
   },
   {
    "duration": 0,
    "start_time": "2022-06-12T10:40:29.155Z"
   },
   {
    "duration": 0,
    "start_time": "2022-06-12T10:40:29.156Z"
   },
   {
    "duration": 41,
    "start_time": "2022-06-12T10:45:55.969Z"
   },
   {
    "duration": 39,
    "start_time": "2022-06-12T10:47:18.282Z"
   },
   {
    "duration": 66,
    "start_time": "2022-06-12T10:47:54.186Z"
   },
   {
    "duration": 41,
    "start_time": "2022-06-12T10:51:55.613Z"
   },
   {
    "duration": 46,
    "start_time": "2022-06-12T10:52:12.998Z"
   },
   {
    "duration": 39,
    "start_time": "2022-06-12T10:52:32.166Z"
   },
   {
    "duration": 62,
    "start_time": "2022-06-12T10:52:52.117Z"
   },
   {
    "duration": 106,
    "start_time": "2022-06-12T10:56:35.070Z"
   },
   {
    "duration": 97,
    "start_time": "2022-06-12T10:58:05.826Z"
   },
   {
    "duration": 95,
    "start_time": "2022-06-12T10:59:08.814Z"
   },
   {
    "duration": 1254,
    "start_time": "2022-06-12T11:00:07.652Z"
   },
   {
    "duration": 872,
    "start_time": "2022-06-12T11:00:08.908Z"
   },
   {
    "duration": 6877,
    "start_time": "2022-06-12T11:00:09.782Z"
   },
   {
    "duration": 31,
    "start_time": "2022-06-12T11:00:16.661Z"
   },
   {
    "duration": 7003,
    "start_time": "2022-06-12T11:00:16.694Z"
   },
   {
    "duration": 218,
    "start_time": "2022-06-12T11:00:23.699Z"
   },
   {
    "duration": 0,
    "start_time": "2022-06-12T11:00:23.922Z"
   },
   {
    "duration": 0,
    "start_time": "2022-06-12T11:00:23.924Z"
   },
   {
    "duration": 211,
    "start_time": "2022-06-12T11:03:52.092Z"
   },
   {
    "duration": 285,
    "start_time": "2022-06-12T11:08:21.305Z"
   },
   {
    "duration": 322,
    "start_time": "2022-06-12T11:08:48.809Z"
   },
   {
    "duration": 1352,
    "start_time": "2022-06-12T11:09:04.247Z"
   },
   {
    "duration": 899,
    "start_time": "2022-06-12T11:09:05.601Z"
   },
   {
    "duration": 7315,
    "start_time": "2022-06-12T11:09:06.502Z"
   },
   {
    "duration": 30,
    "start_time": "2022-06-12T11:09:13.819Z"
   },
   {
    "duration": 6956,
    "start_time": "2022-06-12T11:09:13.850Z"
   },
   {
    "duration": 406,
    "start_time": "2022-06-12T11:09:20.808Z"
   },
   {
    "duration": 0,
    "start_time": "2022-06-12T11:09:21.216Z"
   },
   {
    "duration": 0,
    "start_time": "2022-06-12T11:09:21.217Z"
   },
   {
    "duration": 93,
    "start_time": "2022-06-12T11:24:39.635Z"
   },
   {
    "duration": 1263,
    "start_time": "2022-06-12T11:25:23.745Z"
   },
   {
    "duration": 866,
    "start_time": "2022-06-12T11:25:25.010Z"
   },
   {
    "duration": 6834,
    "start_time": "2022-06-12T11:25:25.877Z"
   },
   {
    "duration": 43,
    "start_time": "2022-06-12T11:25:32.714Z"
   },
   {
    "duration": 6672,
    "start_time": "2022-06-12T11:25:32.759Z"
   },
   {
    "duration": 214,
    "start_time": "2022-06-12T11:25:39.433Z"
   },
   {
    "duration": 0,
    "start_time": "2022-06-12T11:25:39.649Z"
   },
   {
    "duration": 0,
    "start_time": "2022-06-12T11:25:39.651Z"
   },
   {
    "duration": 16,
    "start_time": "2022-06-12T11:27:46.693Z"
   },
   {
    "duration": 31,
    "start_time": "2022-06-12T11:28:09.014Z"
   },
   {
    "duration": 25,
    "start_time": "2022-06-12T11:28:29.077Z"
   },
   {
    "duration": 17,
    "start_time": "2022-06-12T11:29:04.553Z"
   },
   {
    "duration": 97,
    "start_time": "2022-06-12T11:29:32.192Z"
   },
   {
    "duration": 13,
    "start_time": "2022-06-12T11:35:20.897Z"
   },
   {
    "duration": 13,
    "start_time": "2022-06-12T11:35:45.213Z"
   },
   {
    "duration": 12,
    "start_time": "2022-06-12T11:37:34.030Z"
   },
   {
    "duration": 10,
    "start_time": "2022-06-12T11:38:07.094Z"
   },
   {
    "duration": 4,
    "start_time": "2022-06-12T11:38:12.845Z"
   },
   {
    "duration": 37,
    "start_time": "2022-06-12T11:39:32.961Z"
   },
   {
    "duration": 1275,
    "start_time": "2022-06-12T11:39:42.992Z"
   },
   {
    "duration": 913,
    "start_time": "2022-06-12T11:39:44.269Z"
   },
   {
    "duration": 6981,
    "start_time": "2022-06-12T11:39:45.183Z"
   },
   {
    "duration": 36,
    "start_time": "2022-06-12T11:39:52.166Z"
   },
   {
    "duration": 6941,
    "start_time": "2022-06-12T11:39:52.204Z"
   },
   {
    "duration": 5,
    "start_time": "2022-06-12T11:39:59.147Z"
   },
   {
    "duration": 145,
    "start_time": "2022-06-12T11:39:59.154Z"
   },
   {
    "duration": 0,
    "start_time": "2022-06-12T11:39:59.300Z"
   },
   {
    "duration": 0,
    "start_time": "2022-06-12T11:39:59.302Z"
   },
   {
    "duration": 5,
    "start_time": "2022-06-12T11:40:28.175Z"
   },
   {
    "duration": 1326,
    "start_time": "2022-06-12T11:40:57.112Z"
   },
   {
    "duration": 996,
    "start_time": "2022-06-12T11:40:58.442Z"
   },
   {
    "duration": 7633,
    "start_time": "2022-06-12T11:40:59.440Z"
   },
   {
    "duration": 34,
    "start_time": "2022-06-12T11:41:07.075Z"
   },
   {
    "duration": 7793,
    "start_time": "2022-06-12T11:41:07.110Z"
   },
   {
    "duration": 5,
    "start_time": "2022-06-12T11:41:14.904Z"
   },
   {
    "duration": 137,
    "start_time": "2022-06-12T11:41:14.910Z"
   },
   {
    "duration": 0,
    "start_time": "2022-06-12T11:41:15.048Z"
   },
   {
    "duration": 0,
    "start_time": "2022-06-12T11:41:15.050Z"
   },
   {
    "duration": 10,
    "start_time": "2022-06-12T11:41:36.148Z"
   },
   {
    "duration": 4,
    "start_time": "2022-06-12T11:41:45.856Z"
   },
   {
    "duration": 6,
    "start_time": "2022-06-12T11:47:21.969Z"
   },
   {
    "duration": 105,
    "start_time": "2022-06-12T11:47:40.276Z"
   },
   {
    "duration": 4,
    "start_time": "2022-06-12T11:50:40.165Z"
   },
   {
    "duration": 5,
    "start_time": "2022-06-12T11:51:01.081Z"
   },
   {
    "duration": 3,
    "start_time": "2022-06-12T11:51:18.745Z"
   },
   {
    "duration": 4,
    "start_time": "2022-06-12T11:52:44.309Z"
   },
   {
    "duration": 4,
    "start_time": "2022-06-12T11:52:45.273Z"
   },
   {
    "duration": 20,
    "start_time": "2022-06-12T11:55:54.185Z"
   },
   {
    "duration": 142,
    "start_time": "2022-06-12T11:56:33.522Z"
   },
   {
    "duration": 103,
    "start_time": "2022-06-12T12:10:47.536Z"
   },
   {
    "duration": 1252,
    "start_time": "2022-06-12T12:12:30.245Z"
   },
   {
    "duration": 972,
    "start_time": "2022-06-12T12:12:31.500Z"
   },
   {
    "duration": 7528,
    "start_time": "2022-06-12T12:12:32.473Z"
   },
   {
    "duration": 47,
    "start_time": "2022-06-12T12:12:40.003Z"
   },
   {
    "duration": 7551,
    "start_time": "2022-06-12T12:12:40.052Z"
   },
   {
    "duration": 4,
    "start_time": "2022-06-12T12:12:47.605Z"
   },
   {
    "duration": 227,
    "start_time": "2022-06-12T12:12:47.623Z"
   },
   {
    "duration": 0,
    "start_time": "2022-06-12T12:12:47.851Z"
   },
   {
    "duration": 0,
    "start_time": "2022-06-12T12:12:47.852Z"
   },
   {
    "duration": 30,
    "start_time": "2022-06-12T12:13:01.094Z"
   },
   {
    "duration": 15,
    "start_time": "2022-06-12T12:13:17.274Z"
   },
   {
    "duration": 1343,
    "start_time": "2022-06-12T12:13:25.620Z"
   },
   {
    "duration": 1030,
    "start_time": "2022-06-12T12:13:26.966Z"
   },
   {
    "duration": 7927,
    "start_time": "2022-06-12T12:13:27.998Z"
   },
   {
    "duration": 50,
    "start_time": "2022-06-12T12:13:35.931Z"
   },
   {
    "duration": 7812,
    "start_time": "2022-06-12T12:13:35.983Z"
   },
   {
    "duration": 4,
    "start_time": "2022-06-12T12:13:43.798Z"
   },
   {
    "duration": 262,
    "start_time": "2022-06-12T12:13:43.804Z"
   },
   {
    "duration": 0,
    "start_time": "2022-06-12T12:13:44.068Z"
   },
   {
    "duration": 0,
    "start_time": "2022-06-12T12:13:44.070Z"
   },
   {
    "duration": 2591,
    "start_time": "2022-06-12T17:20:17.824Z"
   },
   {
    "duration": 2915,
    "start_time": "2022-06-12T17:20:20.417Z"
   },
   {
    "duration": 7881,
    "start_time": "2022-06-12T17:20:23.334Z"
   },
   {
    "duration": 37,
    "start_time": "2022-06-12T17:20:31.218Z"
   },
   {
    "duration": 7728,
    "start_time": "2022-06-12T17:20:31.257Z"
   },
   {
    "duration": 14,
    "start_time": "2022-06-12T17:20:38.987Z"
   },
   {
    "duration": 190,
    "start_time": "2022-06-12T17:20:39.003Z"
   },
   {
    "duration": 0,
    "start_time": "2022-06-12T17:20:39.195Z"
   },
   {
    "duration": 0,
    "start_time": "2022-06-12T17:20:39.198Z"
   },
   {
    "duration": 4,
    "start_time": "2022-06-12T17:33:15.317Z"
   },
   {
    "duration": 857,
    "start_time": "2022-06-12T17:33:15.323Z"
   },
   {
    "duration": 7,
    "start_time": "2022-06-12T17:33:21.576Z"
   },
   {
    "duration": 6014,
    "start_time": "2022-06-12T17:33:31.110Z"
   },
   {
    "duration": 42,
    "start_time": "2022-06-12T17:35:31.460Z"
   },
   {
    "duration": 24,
    "start_time": "2022-06-12T17:35:34.013Z"
   },
   {
    "duration": 1215,
    "start_time": "2022-06-12T17:35:50.719Z"
   },
   {
    "duration": 900,
    "start_time": "2022-06-12T17:35:51.936Z"
   },
   {
    "duration": 7107,
    "start_time": "2022-06-12T17:35:52.838Z"
   },
   {
    "duration": 30,
    "start_time": "2022-06-12T17:35:59.947Z"
   },
   {
    "duration": 248,
    "start_time": "2022-06-12T17:35:59.979Z"
   },
   {
    "duration": 4,
    "start_time": "2022-06-12T17:36:00.229Z"
   },
   {
    "duration": 132,
    "start_time": "2022-06-12T17:36:00.235Z"
   },
   {
    "duration": 0,
    "start_time": "2022-06-12T17:36:00.369Z"
   },
   {
    "duration": 0,
    "start_time": "2022-06-12T17:36:00.370Z"
   },
   {
    "duration": 6,
    "start_time": "2022-06-12T17:38:06.616Z"
   },
   {
    "duration": 841,
    "start_time": "2022-06-12T17:38:06.625Z"
   },
   {
    "duration": 6347,
    "start_time": "2022-06-12T17:38:07.467Z"
   },
   {
    "duration": 44,
    "start_time": "2022-06-12T17:38:13.816Z"
   },
   {
    "duration": 5,
    "start_time": "2022-06-12T17:38:28.378Z"
   },
   {
    "duration": 6901,
    "start_time": "2022-06-12T17:38:43.006Z"
   },
   {
    "duration": 5,
    "start_time": "2022-06-12T17:41:51.119Z"
   },
   {
    "duration": 829,
    "start_time": "2022-06-12T17:41:51.126Z"
   },
   {
    "duration": 5803,
    "start_time": "2022-06-12T17:41:51.958Z"
   },
   {
    "duration": 45,
    "start_time": "2022-06-12T17:41:57.763Z"
   },
   {
    "duration": 5,
    "start_time": "2022-06-12T17:41:57.811Z"
   },
   {
    "duration": 7020,
    "start_time": "2022-06-12T17:42:02.936Z"
   },
   {
    "duration": 3,
    "start_time": "2022-06-12T17:42:30.531Z"
   },
   {
    "duration": 129,
    "start_time": "2022-06-12T17:43:07.792Z"
   },
   {
    "duration": 3468,
    "start_time": "2022-06-12T17:46:55.252Z"
   },
   {
    "duration": 1281,
    "start_time": "2022-06-12T17:47:48.900Z"
   },
   {
    "duration": 940,
    "start_time": "2022-06-12T17:47:50.182Z"
   },
   {
    "duration": 7186,
    "start_time": "2022-06-12T17:47:51.124Z"
   },
   {
    "duration": 36,
    "start_time": "2022-06-12T17:47:58.312Z"
   },
   {
    "duration": 5,
    "start_time": "2022-06-12T17:47:58.350Z"
   },
   {
    "duration": 7475,
    "start_time": "2022-06-12T17:47:58.357Z"
   },
   {
    "duration": 3,
    "start_time": "2022-06-12T17:48:05.834Z"
   },
   {
    "duration": 3607,
    "start_time": "2022-06-12T17:48:05.838Z"
   },
   {
    "duration": 0,
    "start_time": "2022-06-12T17:48:09.447Z"
   },
   {
    "duration": 0,
    "start_time": "2022-06-12T17:48:09.448Z"
   },
   {
    "duration": 3343,
    "start_time": "2022-06-12T17:52:21.038Z"
   },
   {
    "duration": 3666,
    "start_time": "2022-06-12T17:54:21.242Z"
   },
   {
    "duration": 15,
    "start_time": "2022-06-12T17:54:44.851Z"
   },
   {
    "duration": 4032,
    "start_time": "2022-06-12T17:55:02.634Z"
   },
   {
    "duration": 17,
    "start_time": "2022-06-12T18:01:38.167Z"
   },
   {
    "duration": 3896,
    "start_time": "2022-06-12T18:02:34.494Z"
   },
   {
    "duration": 3637,
    "start_time": "2022-06-12T18:03:27.442Z"
   },
   {
    "duration": 4052,
    "start_time": "2022-06-12T18:06:15.708Z"
   },
   {
    "duration": 3427,
    "start_time": "2022-06-12T18:07:14.846Z"
   },
   {
    "duration": 3741,
    "start_time": "2022-06-12T18:07:48.790Z"
   },
   {
    "duration": 41,
    "start_time": "2022-06-12T18:08:12.282Z"
   },
   {
    "duration": 3580,
    "start_time": "2022-06-12T18:11:32.234Z"
   },
   {
    "duration": 1260,
    "start_time": "2022-06-12T18:11:56.865Z"
   },
   {
    "duration": 973,
    "start_time": "2022-06-12T18:11:58.127Z"
   },
   {
    "duration": 7232,
    "start_time": "2022-06-12T18:11:59.108Z"
   },
   {
    "duration": 31,
    "start_time": "2022-06-12T18:12:06.343Z"
   },
   {
    "duration": 21,
    "start_time": "2022-06-12T18:12:06.376Z"
   },
   {
    "duration": 7326,
    "start_time": "2022-06-12T18:12:06.398Z"
   },
   {
    "duration": 3930,
    "start_time": "2022-06-12T18:12:13.726Z"
   },
   {
    "duration": 4,
    "start_time": "2022-06-12T18:12:17.661Z"
   },
   {
    "duration": 3748,
    "start_time": "2022-06-12T18:12:17.667Z"
   },
   {
    "duration": 0,
    "start_time": "2022-06-12T18:12:21.417Z"
   },
   {
    "duration": 0,
    "start_time": "2022-06-12T18:12:21.418Z"
   },
   {
    "duration": 3290,
    "start_time": "2022-06-12T18:12:34.442Z"
   },
   {
    "duration": 3462,
    "start_time": "2022-06-12T18:12:39.170Z"
   },
   {
    "duration": 26,
    "start_time": "2022-06-12T18:13:57.111Z"
   },
   {
    "duration": 14,
    "start_time": "2022-06-12T18:14:03.106Z"
   },
   {
    "duration": 5,
    "start_time": "2022-06-12T18:14:09.457Z"
   },
   {
    "duration": 847,
    "start_time": "2022-06-12T18:14:09.464Z"
   },
   {
    "duration": 5942,
    "start_time": "2022-06-12T18:14:10.313Z"
   },
   {
    "duration": 49,
    "start_time": "2022-06-12T18:14:16.256Z"
   },
   {
    "duration": 6,
    "start_time": "2022-06-12T18:14:16.309Z"
   },
   {
    "duration": 7315,
    "start_time": "2022-06-12T18:14:44.722Z"
   },
   {
    "duration": 28,
    "start_time": "2022-06-12T18:15:05.869Z"
   },
   {
    "duration": 14,
    "start_time": "2022-06-12T18:15:11.938Z"
   },
   {
    "duration": 1226,
    "start_time": "2022-06-12T18:18:23.220Z"
   },
   {
    "duration": 931,
    "start_time": "2022-06-12T18:18:24.448Z"
   },
   {
    "duration": 7303,
    "start_time": "2022-06-12T18:18:25.381Z"
   },
   {
    "duration": 36,
    "start_time": "2022-06-12T18:18:32.686Z"
   },
   {
    "duration": 6,
    "start_time": "2022-06-12T18:18:32.724Z"
   },
   {
    "duration": 7181,
    "start_time": "2022-06-12T18:18:32.731Z"
   },
   {
    "duration": 3242,
    "start_time": "2022-06-12T18:18:39.914Z"
   },
   {
    "duration": 3,
    "start_time": "2022-06-12T18:18:43.158Z"
   },
   {
    "duration": 3489,
    "start_time": "2022-06-12T18:18:43.163Z"
   },
   {
    "duration": 0,
    "start_time": "2022-06-12T18:18:46.654Z"
   },
   {
    "duration": 0,
    "start_time": "2022-06-12T18:18:46.655Z"
   },
   {
    "duration": 30,
    "start_time": "2022-06-12T18:19:28.175Z"
   },
   {
    "duration": 1230,
    "start_time": "2022-06-12T18:19:44.410Z"
   },
   {
    "duration": 925,
    "start_time": "2022-06-12T18:19:45.642Z"
   },
   {
    "duration": 7174,
    "start_time": "2022-06-12T18:19:46.569Z"
   },
   {
    "duration": 31,
    "start_time": "2022-06-12T18:19:53.745Z"
   },
   {
    "duration": 5,
    "start_time": "2022-06-12T18:19:53.778Z"
   },
   {
    "duration": 7266,
    "start_time": "2022-06-12T18:19:53.785Z"
   },
   {
    "duration": 3620,
    "start_time": "2022-06-12T18:20:01.053Z"
   },
   {
    "duration": 3,
    "start_time": "2022-06-12T18:20:04.675Z"
   },
   {
    "duration": 3758,
    "start_time": "2022-06-12T18:20:04.680Z"
   },
   {
    "duration": 0,
    "start_time": "2022-06-12T18:20:08.441Z"
   },
   {
    "duration": 0,
    "start_time": "2022-06-12T18:20:08.442Z"
   },
   {
    "duration": 1400,
    "start_time": "2022-06-12T18:21:30.088Z"
   },
   {
    "duration": 1015,
    "start_time": "2022-06-12T18:21:31.491Z"
   },
   {
    "duration": 7251,
    "start_time": "2022-06-12T18:21:32.512Z"
   },
   {
    "duration": 39,
    "start_time": "2022-06-12T18:21:39.765Z"
   },
   {
    "duration": 7,
    "start_time": "2022-06-12T18:21:39.806Z"
   },
   {
    "duration": 7090,
    "start_time": "2022-06-12T18:21:39.815Z"
   },
   {
    "duration": 4,
    "start_time": "2022-06-12T18:21:46.906Z"
   },
   {
    "duration": 131,
    "start_time": "2022-06-12T18:21:46.912Z"
   },
   {
    "duration": 0,
    "start_time": "2022-06-12T18:21:47.045Z"
   },
   {
    "duration": 0,
    "start_time": "2022-06-12T18:21:47.046Z"
   },
   {
    "duration": 3669,
    "start_time": "2022-06-12T18:22:38.636Z"
   },
   {
    "duration": 3576,
    "start_time": "2022-06-12T18:24:27.047Z"
   },
   {
    "duration": 3572,
    "start_time": "2022-06-12T18:24:34.287Z"
   },
   {
    "duration": 114,
    "start_time": "2022-06-12T18:41:34.956Z"
   },
   {
    "duration": 138,
    "start_time": "2022-06-12T18:41:53.752Z"
   },
   {
    "duration": 7299,
    "start_time": "2022-06-12T18:47:39.731Z"
   },
   {
    "duration": 35,
    "start_time": "2022-06-12T18:47:49.244Z"
   },
   {
    "duration": 1331,
    "start_time": "2022-06-12T18:48:23.018Z"
   },
   {
    "duration": 1012,
    "start_time": "2022-06-12T18:48:24.351Z"
   },
   {
    "duration": 7465,
    "start_time": "2022-06-12T18:48:25.365Z"
   },
   {
    "duration": 31,
    "start_time": "2022-06-12T18:48:32.832Z"
   },
   {
    "duration": 7590,
    "start_time": "2022-06-12T18:48:32.865Z"
   },
   {
    "duration": 241,
    "start_time": "2022-06-12T18:48:40.457Z"
   },
   {
    "duration": 0,
    "start_time": "2022-06-12T18:48:40.703Z"
   },
   {
    "duration": 0,
    "start_time": "2022-06-12T18:48:40.704Z"
   },
   {
    "duration": 106,
    "start_time": "2022-06-12T18:49:28.203Z"
   },
   {
    "duration": 102,
    "start_time": "2022-06-12T18:51:50.851Z"
   },
   {
    "duration": 100,
    "start_time": "2022-06-12T18:52:33.826Z"
   },
   {
    "duration": 117,
    "start_time": "2022-06-12T18:55:39.054Z"
   },
   {
    "duration": 122,
    "start_time": "2022-06-12T18:56:10.694Z"
   },
   {
    "duration": 3686,
    "start_time": "2022-06-12T18:56:27.630Z"
   },
   {
    "duration": 3532,
    "start_time": "2022-06-12T18:56:58.846Z"
   },
   {
    "duration": 3505,
    "start_time": "2022-06-12T18:57:24.129Z"
   },
   {
    "duration": 11,
    "start_time": "2022-06-12T18:57:56.717Z"
   },
   {
    "duration": 46,
    "start_time": "2022-06-12T19:06:24.211Z"
   },
   {
    "duration": 1301,
    "start_time": "2022-06-12T19:06:31.772Z"
   },
   {
    "duration": 950,
    "start_time": "2022-06-12T19:06:33.076Z"
   },
   {
    "duration": 7244,
    "start_time": "2022-06-12T19:06:34.028Z"
   },
   {
    "duration": 50,
    "start_time": "2022-06-12T19:06:41.274Z"
   },
   {
    "duration": 7200,
    "start_time": "2022-06-12T19:06:41.327Z"
   },
   {
    "duration": 126,
    "start_time": "2022-06-12T19:06:48.528Z"
   },
   {
    "duration": 0,
    "start_time": "2022-06-12T19:06:48.656Z"
   },
   {
    "duration": 0,
    "start_time": "2022-06-12T19:06:48.657Z"
   },
   {
    "duration": 15,
    "start_time": "2022-06-12T19:08:32.053Z"
   },
   {
    "duration": 14,
    "start_time": "2022-06-12T19:08:56.312Z"
   },
   {
    "duration": 11,
    "start_time": "2022-06-12T19:09:10.513Z"
   },
   {
    "duration": 12,
    "start_time": "2022-06-12T19:09:16.749Z"
   },
   {
    "duration": 12,
    "start_time": "2022-06-12T19:09:39.844Z"
   },
   {
    "duration": 62760,
    "start_time": "2022-06-12T19:09:47.669Z"
   },
   {
    "duration": 6310,
    "start_time": "2022-06-12T19:11:11.132Z"
   },
   {
    "duration": 101093,
    "start_time": "2022-06-12T19:12:06.924Z"
   },
   {
    "duration": 6,
    "start_time": "2022-06-12T19:19:37.511Z"
   },
   {
    "duration": 215,
    "start_time": "2022-06-12T19:22:48.255Z"
   },
   {
    "duration": 33,
    "start_time": "2022-06-12T19:23:15.228Z"
   },
   {
    "duration": 32,
    "start_time": "2022-06-12T19:23:29.359Z"
   },
   {
    "duration": 177,
    "start_time": "2022-06-12T19:23:37.078Z"
   },
   {
    "duration": 38,
    "start_time": "2022-06-12T19:24:30.212Z"
   },
   {
    "duration": 36,
    "start_time": "2022-06-12T19:24:56.072Z"
   },
   {
    "duration": 35,
    "start_time": "2022-06-12T19:26:26.775Z"
   },
   {
    "duration": 1252,
    "start_time": "2022-06-12T19:26:44.908Z"
   },
   {
    "duration": 945,
    "start_time": "2022-06-12T19:26:46.162Z"
   },
   {
    "duration": 7361,
    "start_time": "2022-06-12T19:26:47.109Z"
   },
   {
    "duration": 45,
    "start_time": "2022-06-12T19:26:54.472Z"
   },
   {
    "duration": 7455,
    "start_time": "2022-06-12T19:26:54.519Z"
   },
   {
    "duration": 59922,
    "start_time": "2022-06-12T19:27:01.977Z"
   },
   {
    "duration": 6160,
    "start_time": "2022-06-12T19:28:01.901Z"
   },
   {
    "duration": 105044,
    "start_time": "2022-06-12T19:28:08.063Z"
   },
   {
    "duration": 51,
    "start_time": "2022-06-12T19:29:53.109Z"
   },
   {
    "duration": 34,
    "start_time": "2022-06-12T19:30:03.412Z"
   },
   {
    "duration": 35,
    "start_time": "2022-06-12T19:30:14.106Z"
   },
   {
    "duration": 31,
    "start_time": "2022-06-12T19:30:43.626Z"
   },
   {
    "duration": 120,
    "start_time": "2022-06-12T19:31:41.221Z"
   },
   {
    "duration": 25,
    "start_time": "2022-06-12T19:31:44.342Z"
   },
   {
    "duration": 1389,
    "start_time": "2022-06-12T19:49:39.709Z"
   },
   {
    "duration": 963,
    "start_time": "2022-06-12T19:49:41.103Z"
   },
   {
    "duration": 7508,
    "start_time": "2022-06-12T19:49:42.068Z"
   },
   {
    "duration": 51,
    "start_time": "2022-06-12T19:49:49.579Z"
   },
   {
    "duration": 7644,
    "start_time": "2022-06-12T19:49:49.632Z"
   },
   {
    "duration": 60257,
    "start_time": "2022-06-12T19:49:57.278Z"
   },
   {
    "duration": 6401,
    "start_time": "2022-06-12T19:50:57.537Z"
   },
   {
    "duration": 104080,
    "start_time": "2022-06-12T19:51:03.940Z"
   },
   {
    "duration": 59,
    "start_time": "2022-06-12T19:52:48.022Z"
   },
   {
    "duration": 148,
    "start_time": "2022-06-12T19:52:48.095Z"
   },
   {
    "duration": 28,
    "start_time": "2022-06-12T19:52:48.245Z"
   }
  ],
  "kernelspec": {
   "display_name": "Python 3 (ipykernel)",
   "language": "python",
   "name": "python3"
  },
  "language_info": {
   "codemirror_mode": {
    "name": "ipython",
    "version": 3
   },
   "file_extension": ".py",
   "mimetype": "text/x-python",
   "name": "python",
   "nbconvert_exporter": "python",
   "pygments_lexer": "ipython3",
   "version": "3.9.5"
  },
  "toc": {
   "base_numbering": 1,
   "nav_menu": {
    "height": "148.993px",
    "width": "256.997px"
   },
   "number_sections": true,
   "sideBar": true,
   "skip_h1_title": true,
   "title_cell": "Содержание",
   "title_sidebar": "Contents",
   "toc_cell": true,
   "toc_position": {
    "height": "calc(100% - 180px)",
    "left": "10px",
    "top": "150px",
    "width": "302.391px"
   },
   "toc_section_display": true,
   "toc_window_display": false
  }
 },
 "nbformat": 4,
 "nbformat_minor": 2
}
